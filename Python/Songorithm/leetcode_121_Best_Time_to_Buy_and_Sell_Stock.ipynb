{
 "cells": [
  {
   "attachments": {},
   "cell_type": "markdown",
   "metadata": {},
   "source": [
    "# 121. Best Time to Buy and Sell Stock 주식을 사고팔기 가장 좋은 시점\n",
    "\n",
    "- 난이도 **\n",
    "- 121. Best Time to Buy and Sell Stock (https://leetcode.com/problems/best_time_to_buy_and_sell_stock))"
   ]
  },
  {
   "cell_type": "code",
   "execution_count": null,
   "metadata": {},
   "outputs": [],
   "source": [
    "from typing import List\n",
    "\n",
    "def maxProfit(self, prices: List[int]) -> int:\n",
    "    profit = 0\n",
    "    min_price = sys.maxsize\n",
    "\n",
    "    for price in prices:\n",
    "        min_price = min(min_price, price)\n",
    "        profit = max(profit, price - min_price)\n",
    "\n",
    "    return profit\n"
   ]
  }
 ],
 "metadata": {
  "kernelspec": {
   "display_name": "Python 3",
   "language": "python",
   "name": "python3"
  },
  "language_info": {
   "name": "python",
   "version": "3.10.6 (main, Jan 12 2023, 02:04:43) [Clang 13.1.6 (clang-1316.0.21.2.5)]"
  },
  "orig_nbformat": 4,
  "vscode": {
   "interpreter": {
    "hash": "4e928aa38b2fc246d93d254451b40aa526a716eb2f31e7bb202d1e1f91c7270f"
   }
  }
 },
 "nbformat": 4,
 "nbformat_minor": 2
}
