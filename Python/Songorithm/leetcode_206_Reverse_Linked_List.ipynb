{
 "cells": [
  {
   "attachments": {},
   "cell_type": "markdown",
   "metadata": {},
   "source": [
    "# 206. Reverse Linked List 역순 연결 리스트\n",
    "\n",
    "- 난이도 *\n",
    "- 206. Reverse Linked List (https://leetcode.com/problems/reverse-linked-list))"
   ]
  },
  {
   "cell_type": "code",
   "execution_count": null,
   "metadata": {},
   "outputs": [],
   "source": [
    "def reverseList(self, head: ListNode) -> ListNode:\n",
    "    node, prev = head, None\n",
    "\n",
    "    while node:\n",
    "        next, node.next = node.next, prev\n",
    "        prev, node = node, next\n",
    "\n",
    "    return prev"
   ]
  }
 ],
 "metadata": {
  "kernelspec": {
   "display_name": "Python 3",
   "language": "python",
   "name": "python3"
  },
  "language_info": {
   "name": "python",
   "version": "3.10.6 (main, Jan 12 2023, 02:04:43) [Clang 13.1.6 (clang-1316.0.21.2.5)]"
  },
  "orig_nbformat": 4,
  "vscode": {
   "interpreter": {
    "hash": "4e928aa38b2fc246d93d254451b40aa526a716eb2f31e7bb202d1e1f91c7270f"
   }
  }
 },
 "nbformat": 4,
 "nbformat_minor": 2
}
