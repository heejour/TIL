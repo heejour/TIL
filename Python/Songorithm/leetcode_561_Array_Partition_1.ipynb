{
 "cells": [
  {
   "attachments": {},
   "cell_type": "markdown",
   "metadata": {},
   "source": [
    "# 561. Array Partition I 배열 파티션 I\n",
    "\n",
    "- 난이도 *\n",
    "- 561. Array Partition I (https://leetcode.com/problems/array-partition-i))"
   ]
  },
  {
   "cell_type": "code",
   "execution_count": null,
   "metadata": {},
   "outputs": [],
   "source": [
    "from typing import List\n",
    "\n",
    "def arrayPairSum(self, nums: List[int]) -> int:\n",
    "    sum = 0\n",
    "    nums.sort()\n",
    "\n",
    "    for i, n in enumerate(nums):\n",
    "        if i % 2 == 0:\n",
    "            sum += n\n",
    "\n",
    "    return sum"
   ]
  },
  {
   "cell_type": "code",
   "execution_count": null,
   "metadata": {},
   "outputs": [],
   "source": [
    "arrayPairSum(True, [1,4,3,2])"
   ]
  }
 ],
 "metadata": {
  "kernelspec": {
   "display_name": "Python 3",
   "language": "python",
   "name": "python3"
  },
  "language_info": {
   "codemirror_mode": {
    "name": "ipython",
    "version": 3
   },
   "file_extension": ".py",
   "mimetype": "text/x-python",
   "name": "python",
   "nbconvert_exporter": "python",
   "pygments_lexer": "ipython3",
   "version": "3.10.6"
  },
  "orig_nbformat": 4,
  "vscode": {
   "interpreter": {
    "hash": "4e928aa38b2fc246d93d254451b40aa526a716eb2f31e7bb202d1e1f91c7270f"
   }
  }
 },
 "nbformat": 4,
 "nbformat_minor": 2
}
