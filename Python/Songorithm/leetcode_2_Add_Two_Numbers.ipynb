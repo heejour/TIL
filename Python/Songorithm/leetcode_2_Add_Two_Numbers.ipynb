{
 "cells": [
  {
   "attachments": {},
   "cell_type": "markdown",
   "metadata": {},
   "source": [
    "# 2. 두 수의 덧셈\n",
    "\n",
    "- 난이도 **\n",
    "- 2. Add Two Numbers (https://leetcode.com/problems/add-two-numbers))"
   ]
  },
  {
   "cell_type": "code",
   "execution_count": null,
   "metadata": {},
   "outputs": [],
   "source": [
    "def addTwoNumbers(self, l1: ListNpde, l2: ListNode) -> ListNode:\n",
    "    root = head = ListNode(0)\n",
    "    \n",
    "    carry = 0\n",
    "    while l1 or l2 or carry:\n",
    "        sum = 0\n",
    "        # 두 입력값의 합 계산\n",
    "        if l1:\n",
    "            sum += l1.val\n",
    "            l1 = l1.next\n",
    "        if l2:\n",
    "            sum += l2.val\n",
    "            l2 = l2.next\n",
    "\n",
    "        # 몫과 나머지\n",
    "        carry, val = divmod(sum + carry, 10)\n",
    "        head.next = ListNode(val)\n",
    "        head = head.next\n",
    "\n",
    "    return root.next"
   ]
  }
 ],
 "metadata": {
  "kernelspec": {
   "display_name": "Python 3",
   "language": "python",
   "name": "python3"
  },
  "language_info": {
   "name": "python",
   "version": "3.10.6 (main, Jan 12 2023, 02:04:43) [Clang 13.1.6 (clang-1316.0.21.2.5)]"
  },
  "orig_nbformat": 4,
  "vscode": {
   "interpreter": {
    "hash": "4e928aa38b2fc246d93d254451b40aa526a716eb2f31e7bb202d1e1f91c7270f"
   }
  }
 },
 "nbformat": 4,
 "nbformat_minor": 2
}
