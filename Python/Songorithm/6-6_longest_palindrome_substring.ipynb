{
 "cells": [
  {
   "cell_type": "markdown",
   "metadata": {},
   "source": [
    "# 6. 가장 긴 팰린드롬 부분 문자열\n",
    "\n",
    "- 난이도 **\n",
    "- 5. Longest Palindrome Substring (https://leetcode.com/problems/longest-palindrome-substring))"
   ]
  },
  {
   "cell_type": "markdown",
   "metadata": {},
   "source": [
    "### 풀이 1. 중앙을 중심으로 확장하는 풀이"
   ]
  },
  {
   "cell_type": "code",
   "execution_count": null,
   "metadata": {},
   "outputs": [],
   "source": [
    "def longestPalindrome(self, s: str) -> str:\n",
    "    def expand(left: int, right: int) -> str:\n",
    "        while left >= 0 and right < len(s) and s[left] == s[right]:\n",
    "            left -= 1\n",
    "            right += 1\n",
    "        return s[left + 1:right]\n",
    "\n",
    "    if len(s) < 2 or s == s[::-1]:\n",
    "        return s\n",
    "\n",
    "    result = ''\n",
    "\n",
    "    for i in range(len(s) - 1):\n",
    "        result = max(result, \n",
    "                        expand(i, i + 1),\n",
    "                        expand(i, i + 2), \n",
    "                        key = len)\n",
    "    return result"
   ]
  },
  {
   "cell_type": "code",
   "execution_count": null,
   "metadata": {},
   "outputs": [],
   "source": [
    "longestPalindrome(\"heejoururu\")"
   ]
  }
 ],
 "metadata": {
  "language_info": {
   "name": "python"
  },
  "orig_nbformat": 4
 },
 "nbformat": 4,
 "nbformat_minor": 2
}
