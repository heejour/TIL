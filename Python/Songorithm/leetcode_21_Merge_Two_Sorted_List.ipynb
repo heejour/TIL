{
 "cells": [
  {
   "attachments": {},
   "cell_type": "markdown",
   "metadata": {},
   "source": [
    "# 12. Merge Two Sorted Lists 두 정렬 리스트의 병합 \n",
    "\n",
    "- 난이도 *\n",
    "- 12. Merge Two Sorted Lists (https://leetcode.com/problems/merge_two_sorted_lists))"
   ]
  },
  {
   "cell_type": "code",
   "execution_count": null,
   "metadata": {},
   "outputs": [],
   "source": [
    "def mergeTwoLists(self, l1: ListNode, l2: ListNode) -> ListNode:\n",
    "    if (not l1) or (l2 and l1.val > l2.val):\n",
    "        l1, l2 = l2, l1\n",
    "    if l1:\n",
    "        l1.next = self.mergeTwoLists(l1.next, l2)\n",
    "    return l1"
   ]
  }
 ],
 "metadata": {
  "kernelspec": {
   "display_name": "Python 3",
   "language": "python",
   "name": "python3"
  },
  "language_info": {
   "name": "python",
   "version": "3.10.6 (main, Jan 12 2023, 02:04:43) [Clang 13.1.6 (clang-1316.0.21.2.5)]"
  },
  "orig_nbformat": 4,
  "vscode": {
   "interpreter": {
    "hash": "4e928aa38b2fc246d93d254451b40aa526a716eb2f31e7bb202d1e1f91c7270f"
   }
  }
 },
 "nbformat": 4,
 "nbformat_minor": 2
}
