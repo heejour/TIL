{
 "metadata": {
  "language_info": {
   "codemirror_mode": {
    "name": "ipython",
    "version": 3
   },
   "file_extension": ".py",
   "mimetype": "text/x-python",
   "name": "python",
   "nbconvert_exporter": "python",
   "pygments_lexer": "ipython3",
   "version": "3.7.6-final"
  },
  "orig_nbformat": 2,
  "kernelspec": {
   "name": "python3",
   "display_name": "Python 3.7.6 64-bit",
   "metadata": {
    "interpreter": {
     "hash": "aee8b7b246df8f9039afb4144a1f6fd8d2ca17a180786b69acc140d282b71a49"
    }
   }
  }
 },
 "nbformat": 4,
 "nbformat_minor": 2,
 "cells": [
  {
   "cell_type": "code",
   "execution_count": 37,
   "metadata": {},
   "outputs": [],
   "source": [
    "def multiply_strings(string_1, string_2):\n",
    "    int_result = 0\n",
    "\n",
    "    idx_1 = ''\n",
    "    for i in string_2[::-1]:\n",
    "        \n",
    "        idx_2 = ''\n",
    "        for j in string_1[::-1]:\n",
    "            int_result += int(str(int(i) * int(j))+idx_2+idx_1)\n",
    "            idx_2 += '0'\n",
    "        idx_1 += '0'\n",
    "\n",
    "    idx_1 = ''\n",
    "    idx_2 = ''\n",
    "    return str(int_result)"
   ]
  },
  {
   "cell_type": "code",
   "execution_count": 40,
   "metadata": {},
   "outputs": [
    {
     "output_type": "stream",
     "name": "stdout",
     "text": [
      "152415787532388367504953515625666819450083828733760097552251181223112635269100015241588876695626775186709466270385625502057614650190519886267337309751562263087639079520012193273126047859425087639153757049236500533455762536198787501905199875019052100\n"
     ]
    }
   ],
   "source": [
    "print(multiply_strings('123456789012345678901234567890123456789012345678901234567890123456789012345678901234567890123456789012345678901234567890', '1234567890123456789012345678901234567890123456789012345678901234567890123456789012345678901234567890123456789012345678901234567890'))"
   ]
  },
  {
   "cell_type": "code",
   "execution_count": 41,
   "metadata": {},
   "outputs": [
    {
     "output_type": "stream",
     "name": "stdout",
     "text": [
      "152415787532388367504953515625666819450083828733760097552251181223112635269100015241588876695626775186709466270385625502057614650190519886267337309751562263087639079520012193273126047859425087639153757049236500533455762536198787501905199875019052100\n"
     ]
    }
   ],
   "source": [
    "print(123456789012345678901234567890123456789012345678901234567890123456789012345678901234567890123456789012345678901234567890*1234567890123456789012345678901234567890123456789012345678901234567890123456789012345678901234567890123456789012345678901234567890)"
   ]
  }
 ]
}